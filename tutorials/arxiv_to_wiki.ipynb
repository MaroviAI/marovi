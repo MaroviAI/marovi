{
 "cells": [
  {
   "cell_type": "markdown",
   "metadata": {},
   "source": [
    "# ArXiv to Wiki Conversion\n",
    "This notebook demonstrates downloading an arXiv paper, converting the HTML to wiki markup using Pandoc, cleaning the markup with an LLM, and preparing it for upload."
   ]
  },
  {
   "cell_type": "code",
   "execution_count": null,
   "metadata": {},
   "outputs": [],
   "source": [
    "from marovi.modules.download import ArXivDownloader\n",
    "from marovi.modules.parsing.pandoc import PandocParser\n",
    "from marovi.modules.steps.marovi_api import CleanTextStep\n",
    "from marovi.storage.document.paper_storage import PaperStorage\n",
    "from marovi.pipelines.context import PipelineContext\n",
    "\n",
    "storage = PaperStorage('papers')\n",
    "arxiv_id = '2301.00001'\n"
   ]
  },
  {
   "cell_type": "code",
   "execution_count": null,
   "metadata": {},
   "outputs": [],
   "source": [
    "downloader = ArXivDownloader(storage)\n",
    "paper_dir = downloader.download_document(arxiv_id)\n",
    "paper_dir\n"
   ]
  },
  {
   "cell_type": "code",
   "execution_count": null,
   "metadata": {},
   "outputs": [],
   "source": [
    "html_path = paper_dir / f'{arxiv_id}.html'\n",
    "html_text = html_path.read_text(encoding='utf-8')\n",
    "parser = PandocParser(html_text)\n",
    "wiki_path = paper_dir / 'wiki' / f'{arxiv_id}.wiki'\n",
    "parser.convert_html_to_wiki(output_file=str(wiki_path))\n",
    "wiki_path\n"
   ]
  },
  {
   "cell_type": "code",
   "execution_count": null,
   "metadata": {},
   "outputs": [],
   "source": [
    "raw_wiki = wiki_path.read_text(encoding='utf-8')\n",
    "cleaner = CleanTextStep(format_value='wiki')\n",
    "cleaned = cleaner.run_with_retries([raw_wiki], PipelineContext())[0]\n",
    "print(cleaned[:500])\n"
   ]
  }
 ],
 "metadata": {
  "kernelspec": {
   "display_name": "Python 3",
   "language": "python",
   "name": "python3"
  },
  "language_info": {
   "name": "python",
   "version": "3.10"
  }
 },
 "nbformat": 4,
 "nbformat_minor": 5
}
