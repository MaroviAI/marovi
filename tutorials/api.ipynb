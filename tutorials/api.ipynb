{
 "cells": [
  {
   "cell_type": "markdown",
   "metadata": {},
   "source": [
    "# MaroviAPI Client Example\n",
    "\n",
    "## Setup"
   ]
  },
  {
   "cell_type": "code",
   "execution_count": 1,
   "metadata": {},
   "outputs": [],
   "source": [
    "# Import the MaroviAPI client\n",
    "from marovi.api.core.client import MaroviAPI\n",
    "\n",
    "# Import schemas for custom endpoints\n",
    "from marovi.api.custom.schemas import SummarizationRequest\n",
    "from marovi.api.custom.schemas import FormatConversionRequest\n",
    "\n",
    "import logging\n",
    "\n",
    "# Initialize the client - we'll use this throughout the notebook\n",
    "client = MaroviAPI()\n",
    "\n",
    "# Set logging level to WARNING to suppress INFO messages\n",
    "logging.getLogger('marovi').setLevel(logging.WARNING)\n",
    "\n"
   ]
  },
  {
   "cell_type": "markdown",
   "metadata": {},
   "source": [
    "## LLM Client Example"
   ]
  },
  {
   "cell_type": "code",
   "execution_count": null,
   "metadata": {},
   "outputs": [],
   "source": [
    "# Example prompt\n",
    "prompt = \"Explain what an API client is in 3 sentences.\"\n",
    "\n",
    "# Basic completion\n",
    "response = client.llm.complete(prompt, temperature=0.3, max_tokens=150)\n",
    "\n",
    "print(\"LLM Response:\")\n",
    "print(response)\n",
    "print(\"\\nMetadata:\")\n",
    "print(f\"  model: {client.llm.model}\")\n",
    "print(f\"  provider: {client.llm.provider_type_str}\")"
   ]
  },
  {
   "cell_type": "markdown",
   "metadata": {},
   "source": [
    "## Translation Examples"
   ]
  },
  {
   "cell_type": "code",
   "execution_count": null,
   "metadata": {},
   "outputs": [],
   "source": [
    "# Sample text to translate\n",
    "text = \"The MaroviAPI provides a unified interface for accessing various AI services.\"\n",
    "\n",
    "# Translate from en to es\n",
    "translated_text = client.translation.translate(\n",
    "    text=text,\n",
    "    source_lang=\"en\",\n",
    "    target_lang=\"es\",\n",
    "    provider=\"google\"\n",
    ")\n",
    "\n",
    "print(\"Translation Result:\")\n",
    "print(translated_text)"
   ]
  },
  {
   "cell_type": "markdown",
   "metadata": {},
   "source": [
    "### Custom endpoint for translation with ChatGPT\n",
    "A custom endpoint can be registered by defining a prompt and registering its name and input/ouput schemas\n",
    "\n",
    "```jinja\n",
    "I need to translate the following text from {{ source_lang }} to {{ target_lang }}:\n",
    "\n",
    "{{ text }}\n",
    "\n",
    "Provide the translation in the following JSON format:\n",
    "{\n",
    "  \"translated_text\": \"translated text here\",\n",
    "} \n",
    "```"
   ]
  },
  {
   "cell_type": "code",
   "execution_count": null,
   "metadata": {},
   "outputs": [],
   "source": [
    "# Sample text to translate\n",
    "text = \"The MaroviAPI provides a unified interface for accessing various AI services.\"\n",
    "\n",
    "# Translate from English to Spanish using LLM\n",
    "response = client.custom.llm_translate(\n",
    "    text=text,\n",
    "    source_lang=\"en\",\n",
    "    target_lang=\"es\",\n",
    "    provider=\"openai\"\n",
    ")\n",
    "\n",
    "translated_text = response.get(\"translated_text\", \"\")\n",
    "\n",
    "print(\"LLM Translation Result:\")\n",
    "print(translated_text)"
   ]
  },
  {
   "cell_type": "markdown",
   "metadata": {},
   "source": [
    "## Format Conversion Examples"
   ]
  },
  {
   "cell_type": "code",
   "execution_count": null,
   "metadata": {},
   "outputs": [],
   "source": [
    "# Sample HTML content\n",
    "html_content = \"\"\"\n",
    "<h1>Marovi API</h1>\n",
    "<p>The <strong>Marovi API</strong> provides access to:</p>\n",
    "<ul>\n",
    "    <li>LLM services</li>\n",
    "    <li>Translation services</li>\n",
    "    <li>Custom endpoints for specialized tasks</li>\n",
    "</ul>\n",
    "<p>Learn more at <a href=\"https://marovi.ai\">our website</a>.</p>\n",
    "\"\"\"\n",
    "\n",
    "# Convert HTML to Markdown\n",
    "request = FormatConversionRequest(\n",
    "    text=html_content,\n",
    "    source_format=\"html\",\n",
    "    target_format=\"markdown\",\n",
    "    preserve_structure=True,\n",
    "    preserve_links=True\n",
    ")\n",
    "\n",
    "result = client.custom.convert_format(request)\n",
    "\n",
    "print(\"Format Conversion Result (HTML to Markdown):\")\n",
    "print(result.converted_text)"
   ]
  },
  {
   "cell_type": "markdown",
   "metadata": {},
   "source": [
    "## Summarization Example"
   ]
  },
  {
   "cell_type": "code",
   "execution_count": null,
   "metadata": {},
   "outputs": [],
   "source": [
    "# Sample text to summarize\n",
    "text = \"\"\"\n",
    "The Marovi API is a comprehensive framework designed to provide unified access to various \n",
    "AI services and capabilities. It includes core services like LLM (Large Language Model) \n",
    "interaction and translation, as well as custom endpoints for specialized tasks such as \n",
    "format conversion and text summarization.\n",
    "\n",
    "The API client is designed with a focus on usability, flexibility, and robustness. It \n",
    "provides both synchronous and asynchronous interfaces, comprehensive error handling, \n",
    "and detailed logging for observability. The modular architecture allows for easy \n",
    "extension with new capabilities and services.\n",
    "\n",
    "Custom endpoints in Marovi API follow a standardized interface pattern using Pydantic \n",
    "models for validation, ensuring consistency and type safety across the system. They can \n",
    "leverage other services like LLM and translation, allowing for complex workflows that \n",
    "combine multiple capabilities.\n",
    "\n",
    "The API supports multiple providers for its core services, allowing users to choose the \n",
    "best solution for their specific needs. It also provides features like automatic retries \n",
    "for transient failures, response caching for improved performance, and comprehensive \n",
    "metadata tracking for analytics and debugging.\n",
    "\"\"\"\n",
    "\n",
    "# Create a paragraph-style summary\n",
    "request = SummarizationRequest(\n",
    "    text=text,\n",
    "    style=\"paragraph\",\n",
    "    max_length=80\n",
    ")\n",
    "\n",
    "result = client.custom.summarize(request)\n",
    "\n",
    "print(\"Paragraph Summary:\")\n",
    "## Format summary for presentation\n",
    "summary = result.summary\n",
    "summary = \"-\\n\".join(summary[i:i+100] for i in range(0, len(summary), 100))\n",
    "print(summary)\n",
    "\n",
    "\n",
    "print(\"\\n\")\n",
    "\n",
    "# Create a bullet-point summary with keywords\n",
    "request = SummarizationRequest(\n",
    "    text=text,\n",
    "    style=\"bullet\",\n",
    "    include_keywords=False\n",
    ")\n",
    "\n",
    "result = client.custom.summarize(request)\n",
    "\n",
    "print(\"\\nBullet Point Summary\")\n",
    "print(result.summary)"
   ]
  },
  {
   "cell_type": "markdown",
   "metadata": {},
   "source": []
  }
 ],
 "metadata": {
  "kernelspec": {
   "display_name": ".venv",
   "language": "python",
   "name": "python3"
  },
  "language_info": {
   "codemirror_mode": {
    "name": "ipython",
    "version": 3
   },
   "file_extension": ".py",
   "mimetype": "text/x-python",
   "name": "python",
   "nbconvert_exporter": "python",
   "pygments_lexer": "ipython3",
   "version": "3.10.17"
  }
 },
 "nbformat": 4,
 "nbformat_minor": 2
}
