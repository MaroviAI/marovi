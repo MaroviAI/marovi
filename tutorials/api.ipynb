{
 "cells": [
  {
   "cell_type": "markdown",
   "metadata": {},
   "source": [
    "# MaroviAPI Client Example\n",
    "\n",
    "## Setup"
   ]
  },
  {
   "cell_type": "code",
   "execution_count": 13,
   "metadata": {},
   "outputs": [],
   "source": [
    "# Import the MaroviAPI client\n",
    "from marovi.api.core.client import MaroviAPI\n",
    "\n",
    "# Import schemas for custom endpoints\n",
    "from marovi.api.custom.schemas import SummarizationRequest\n",
    "from marovi.api.custom.schemas import FormatConversionRequest\n",
    "\n",
    "import logging\n",
    "\n",
    "# Initialize the client - we'll use this throughout the notebook\n",
    "client = MaroviAPI()\n",
    "\n",
    "# Set logging level to WARNING to suppress INFO messages\n",
    "logging.getLogger('marovi').setLevel(logging.WARNING)\n",
    "\n"
   ]
  },
  {
   "cell_type": "markdown",
   "metadata": {},
   "source": [
    "## LLM Client Example"
   ]
  },
  {
   "cell_type": "code",
   "execution_count": 14,
   "metadata": {},
   "outputs": [
    {
     "name": "stdout",
     "output_type": "stream",
     "text": [
      "2025-05-11 22:33:54 - httpx - INFO - HTTP Request: POST https://api.openai.com/v1/chat/completions \"HTTP/1.1 200 OK\"\n",
      "LLM Response:\n",
      "An API client is a software component or application that interacts with an API (Application Programming Interface) to request and exchange data or services. It acts as an intermediary, sending requests to the API server and processing the responses it receives. API clients are commonly used to enable communication between different software systems, allowing them to leverage external functionalities and data.\n",
      "\n",
      "Metadata:\n",
      "  model: gpt-4o-2024-08-06\n",
      "  provider: openai\n"
     ]
    }
   ],
   "source": [
    "# Example prompt\n",
    "prompt = \"Explain what an API client is in 3 sentences.\"\n",
    "\n",
    "# Basic completion\n",
    "response = client.llm.complete(prompt, temperature=0.3, max_tokens=150)\n",
    "\n",
    "print(\"LLM Response:\")\n",
    "print(response)\n",
    "print(\"\\nMetadata:\")\n",
    "print(f\"  model: {client.llm.model}\")\n",
    "print(f\"  provider: {client.llm.provider_type_str}\")"
   ]
  },
  {
   "cell_type": "markdown",
   "metadata": {},
   "source": [
    "## Translation Examples"
   ]
  },
  {
   "cell_type": "code",
   "execution_count": 15,
   "metadata": {},
   "outputs": [
    {
     "name": "stdout",
     "output_type": "stream",
     "text": [
      "Translation Result:\n",
      "MaroviAPI proporciona una interfaz unificada para acceder a varios servicios de IA.\n"
     ]
    }
   ],
   "source": [
    "# Sample text to translate\n",
    "text = \"The MaroviAPI provides a unified interface for accessing various AI services.\"\n",
    "\n",
    "# Translate from en to es\n",
    "translated_text = client.translation.translate(\n",
    "    text=text,\n",
    "    source_lang=\"en\",\n",
    "    target_lang=\"es\",\n",
    "    provider=\"google\"\n",
    ")\n",
    "\n",
    "print(\"Translation Result:\")\n",
    "print(translated_text)"
   ]
  },
  {
   "cell_type": "markdown",
   "metadata": {},
   "source": [
    "### Custom endpoint for translation with ChatGPT\n",
    "A custom endpoint can be registered by defining a prompt and registering its name and input/ouput schemas\n",
    "\n",
    "```jinja\n",
    "I need to translate the following text from {{ source_lang }} to {{ target_lang }}:\n",
    "\n",
    "{{ text }}\n",
    "\n",
    "Provide the translation in the following JSON format:\n",
    "{\n",
    "  \"translated_text\": \"translated text here\",\n",
    "} \n",
    "```"
   ]
  },
  {
   "cell_type": "code",
   "execution_count": 16,
   "metadata": {},
   "outputs": [
    {
     "name": "stdout",
     "output_type": "stream",
     "text": [
      "2025-05-11 22:33:55 - httpx - INFO - HTTP Request: POST https://api.openai.com/v1/chat/completions \"HTTP/1.1 200 OK\"\n",
      "LLM Translation Result:\n",
      "La MaroviAPI proporciona una interfaz unificada para acceder a varios servicios de IA.\n"
     ]
    }
   ],
   "source": [
    "# Sample text to translate\n",
    "text = \"The MaroviAPI provides a unified interface for accessing various AI services.\"\n",
    "\n",
    "# Translate from English to Spanish using LLM\n",
    "response = client.custom.llm_translate(\n",
    "    text=text,\n",
    "    source_lang=\"en\",\n",
    "    target_lang=\"es\",\n",
    "    provider=\"openai\"\n",
    ")\n",
    "\n",
    "translated_text = response.get(\"translated_text\", \"\")\n",
    "\n",
    "print(\"LLM Translation Result:\")\n",
    "print(translated_text)"
   ]
  },
  {
   "cell_type": "markdown",
   "metadata": {},
   "source": [
    "## Format Conversion Examples"
   ]
  },
  {
   "cell_type": "code",
   "execution_count": 17,
   "metadata": {},
   "outputs": [
    {
     "name": "stdout",
     "output_type": "stream",
     "text": [
      "2025-05-11 22:33:55 - httpx - INFO - HTTP Request: POST https://api.openai.com/v1/chat/completions \"HTTP/1.1 200 OK\"\n",
      "Format Conversion Result (HTML to Markdown):\n",
      "# Marovi API\n",
      "\n",
      "The **Marovi API** provides access to:\n",
      "\n",
      "- LLM services\n",
      "- Translation services\n",
      "- Custom endpoints for specialized tasks\n",
      "\n",
      "Learn more at [our website](https://marovi.ai).\n"
     ]
    }
   ],
   "source": [
    "# Sample HTML content\n",
    "html_content = \"\"\"\n",
    "<h1>Marovi API</h1>\n",
    "<p>The <strong>Marovi API</strong> provides access to:</p>\n",
    "<ul>\n",
    "    <li>LLM services</li>\n",
    "    <li>Translation services</li>\n",
    "    <li>Custom endpoints for specialized tasks</li>\n",
    "</ul>\n",
    "<p>Learn more at <a href=\"https://marovi.ai\">our website</a>.</p>\n",
    "\"\"\"\n",
    "\n",
    "# Convert HTML to Markdown\n",
    "request = FormatConversionRequest(\n",
    "    text=html_content,\n",
    "    source_format=\"html\",\n",
    "    target_format=\"markdown\",\n",
    "    preserve_structure=True,\n",
    "    preserve_links=True\n",
    ")\n",
    "\n",
    "result = client.custom.convert_format(request)\n",
    "\n",
    "print(\"Format Conversion Result (HTML to Markdown):\")\n",
    "print(result.converted_text)"
   ]
  },
  {
   "cell_type": "markdown",
   "metadata": {},
   "source": [
    "## Summarization Example"
   ]
  },
  {
   "cell_type": "code",
   "execution_count": 18,
   "metadata": {},
   "outputs": [
    {
     "name": "stdout",
     "output_type": "stream",
     "text": [
      "2025-05-11 22:33:57 - httpx - INFO - HTTP Request: POST https://api.openai.com/v1/chat/completions \"HTTP/1.1 200 OK\"\n",
      "Paragraph Summary:\n",
      "The Marovi API is a versatile framework offering unified access to various AI services, including LL-\n",
      "M interaction and translation, with custom endpoints for tasks like format conversion and text summa-\n",
      "rization. It emphasizes usability, flexibility, and robustness, featuring both synchronous and async-\n",
      "hronous interfaces, error handling, and logging. Its modular architecture supports easy extension an-\n",
      "d multiple service providers. Custom endpoints use Pydantic models for validation, ensuring consiste-\n",
      "ncy. Additional features include automatic retries, response caching, and metadata tracking for enha-\n",
      "nced performance and analytics.\n",
      "\n",
      "\n",
      "2025-05-11 22:33:59 - httpx - INFO - HTTP Request: POST https://api.openai.com/v1/chat/completions \"HTTP/1.1 200 OK\"\n",
      "\n",
      "Bullet Point Summary\n",
      "- The Marovi API is a comprehensive framework for unified access to various AI services and capabilities.\n",
      "- Core services include Large Language Model (LLM) interaction and translation.\n",
      "- Custom endpoints are available for specialized tasks like format conversion and text summarization.\n",
      "- The API client emphasizes usability, flexibility, and robustness.\n",
      "  - Offers both synchronous and asynchronous interfaces.\n",
      "  - Includes comprehensive error handling and detailed logging for observability.\n",
      "- The modular architecture allows for easy extension with new capabilities and services.\n",
      "- Custom endpoints use Pydantic models for validation, ensuring consistency and type safety.\n",
      "- Endpoints can integrate with other services like LLM and translation for complex workflows.\n",
      "- Supports multiple providers for core services, allowing users to choose the best solution for their needs.\n",
      "- Features include:\n",
      "  - Automatic retries for transient failures.\n",
      "  - Response caching for improved performance.\n",
      "  - Comprehensive metadata tracking for analytics and debugging.\n"
     ]
    }
   ],
   "source": [
    "# Sample text to summarize\n",
    "text = \"\"\"\n",
    "The Marovi API is a comprehensive framework designed to provide unified access to various \n",
    "AI services and capabilities. It includes core services like LLM (Large Language Model) \n",
    "interaction and translation, as well as custom endpoints for specialized tasks such as \n",
    "format conversion and text summarization.\n",
    "\n",
    "The API client is designed with a focus on usability, flexibility, and robustness. It \n",
    "provides both synchronous and asynchronous interfaces, comprehensive error handling, \n",
    "and detailed logging for observability. The modular architecture allows for easy \n",
    "extension with new capabilities and services.\n",
    "\n",
    "Custom endpoints in Marovi API follow a standardized interface pattern using Pydantic \n",
    "models for validation, ensuring consistency and type safety across the system. They can \n",
    "leverage other services like LLM and translation, allowing for complex workflows that \n",
    "combine multiple capabilities.\n",
    "\n",
    "The API supports multiple providers for its core services, allowing users to choose the \n",
    "best solution for their specific needs. It also provides features like automatic retries \n",
    "for transient failures, response caching for improved performance, and comprehensive \n",
    "metadata tracking for analytics and debugging.\n",
    "\"\"\"\n",
    "\n",
    "# Create a paragraph-style summary\n",
    "request = SummarizationRequest(\n",
    "    text=text,\n",
    "    style=\"paragraph\",\n",
    "    max_length=80\n",
    ")\n",
    "\n",
    "result = client.custom.summarize(request)\n",
    "\n",
    "print(\"Paragraph Summary:\")\n",
    "## Format summary for presentation\n",
    "summary = result.summary\n",
    "summary = \"-\\n\".join(summary[i:i+100] for i in range(0, len(summary), 100))\n",
    "print(summary)\n",
    "\n",
    "\n",
    "print(\"\\n\")\n",
    "\n",
    "# Create a bullet-point summary with keywords\n",
    "request = SummarizationRequest(\n",
    "    text=text,\n",
    "    style=\"bullet\",\n",
    "    include_keywords=False\n",
    ")\n",
    "\n",
    "result = client.custom.summarize(request)\n",
    "\n",
    "print(\"\\nBullet Point Summary\")\n",
    "print(result.summary)"
   ]
  },
  {
   "cell_type": "markdown",
   "metadata": {},
   "source": []
  }
 ],
 "metadata": {
  "kernelspec": {
   "display_name": ".venv",
   "language": "python",
   "name": "python3"
  },
  "language_info": {
   "codemirror_mode": {
    "name": "ipython",
    "version": 3
   },
   "file_extension": ".py",
   "mimetype": "text/x-python",
   "name": "python",
   "nbconvert_exporter": "python",
   "pygments_lexer": "ipython3",
   "version": "3.10.17"
  }
 },
 "nbformat": 4,
 "nbformat_minor": 2
}
